{
 "cells": [
  {
   "cell_type": "code",
   "execution_count": 59,
   "id": "2ad7b294-beed-49c8-b703-0981382f2480",
   "metadata": {},
   "outputs": [],
   "source": [
    "song = \"5eCGFsD4A5e.C4sG5eGDqCDeGsGG4qG5eCGFsD4A5e.C4sG5eGDqCDeGsGG4qG5eGECGC4A5FCsC4B5C4B5e.GsG4qGB5eGECGC4A5FCsC4B5C4B5e.GsG4qGB\""
   ]
  },
  {
   "cell_type": "code",
   "execution_count": 60,
   "id": "e6546a95-1677-41b5-8826-b5650f7cb9e7",
   "metadata": {},
   "outputs": [],
   "source": [
    "octave = 5\n",
    "base_duration = 30.0\n",
    "duration = 1.0\n",
    "note = \"C\"\n",
    "notes = []"
   ]
  },
  {
   "cell_type": "code",
   "execution_count": 61,
   "id": "49b836f9-0069-49dc-8ff1-144fbc046895",
   "metadata": {},
   "outputs": [],
   "source": [
    "for x in song:\n",
    "    if x.isupper():\n",
    "        note = x\n",
    "        notes.append(\"BUZZER_NOTE_{}{}, {:.0f}\".format(note, octave, duration))\n",
    "    elif x.isdigit():\n",
    "        octave = int(x)\n",
    "    else:\n",
    "        if x == 'w': duration = 4.0 * base_duration\n",
    "        if x == 'h': duration = 2.0 * base_duration\n",
    "        if x == 'q': duration = 1.0 * base_duration\n",
    "        if x == 'e': duration = 0.5 * base_duration\n",
    "        if x == 's': duration = 0.25 * base_duration\n",
    "        if x == 't': duration *= 2/3\n",
    "        if x == '.': duration *= 1.5"
   ]
  },
  {
   "cell_type": "code",
   "execution_count": 62,
   "id": "25617503-89fb-479a-ad16-42d346505894",
   "metadata": {},
   "outputs": [
    {
     "name": "stdout",
     "output_type": "stream",
     "text": [
      "BUZZER_NOTE_C5, 15, BUZZER_NOTE_G5, 15, BUZZER_NOTE_F5, 15, BUZZER_NOTE_D5, 8, BUZZER_NOTE_A4, 8, BUZZER_NOTE_C5, 22, BUZZER_NOTE_G4, 8, BUZZER_NOTE_G5, 15, BUZZER_NOTE_D5, 15, BUZZER_NOTE_C5, 30, BUZZER_NOTE_D5, 30, BUZZER_NOTE_G5, 15, BUZZER_NOTE_G5, 8, BUZZER_NOTE_G5, 8, BUZZER_NOTE_G4, 30, BUZZER_NOTE_C5, 15, BUZZER_NOTE_G5, 15, BUZZER_NOTE_F5, 15, BUZZER_NOTE_D5, 8, BUZZER_NOTE_A4, 8, BUZZER_NOTE_C5, 22, BUZZER_NOTE_G4, 8, BUZZER_NOTE_G5, 15, BUZZER_NOTE_D5, 15, BUZZER_NOTE_C5, 30, BUZZER_NOTE_D5, 30, BUZZER_NOTE_G5, 15, BUZZER_NOTE_G5, 8, BUZZER_NOTE_G5, 8, BUZZER_NOTE_G4, 30, BUZZER_NOTE_G5, 15, BUZZER_NOTE_E5, 15, BUZZER_NOTE_C5, 15, BUZZER_NOTE_G5, 15, BUZZER_NOTE_C5, 15, BUZZER_NOTE_A4, 15, BUZZER_NOTE_F5, 15, BUZZER_NOTE_C5, 15, BUZZER_NOTE_C5, 8, BUZZER_NOTE_B4, 8, BUZZER_NOTE_C5, 8, BUZZER_NOTE_B4, 8, BUZZER_NOTE_G5, 22, BUZZER_NOTE_G5, 8, BUZZER_NOTE_G4, 30, BUZZER_NOTE_B4, 30, BUZZER_NOTE_G5, 15, BUZZER_NOTE_E5, 15, BUZZER_NOTE_C5, 15, BUZZER_NOTE_G5, 15, BUZZER_NOTE_C5, 15, BUZZER_NOTE_A4, 15, BUZZER_NOTE_F5, 15, BUZZER_NOTE_C5, 15, BUZZER_NOTE_C5, 8, BUZZER_NOTE_B4, 8, BUZZER_NOTE_C5, 8, BUZZER_NOTE_B4, 8, BUZZER_NOTE_G5, 22, BUZZER_NOTE_G5, 8, BUZZER_NOTE_G4, 30, BUZZER_NOTE_B4, 30, 0\n"
     ]
    }
   ],
   "source": [
    "print(\", \".join(notes) + \", 0\")"
   ]
  }
 ],
 "metadata": {
  "kernelspec": {
   "display_name": "Python 3 (ipykernel)",
   "language": "python",
   "name": "python3"
  },
  "language_info": {
   "codemirror_mode": {
    "name": "ipython",
    "version": 3
   },
   "file_extension": ".py",
   "mimetype": "text/x-python",
   "name": "python",
   "nbconvert_exporter": "python",
   "pygments_lexer": "ipython3",
   "version": "3.13.5"
  }
 },
 "nbformat": 4,
 "nbformat_minor": 5
}
